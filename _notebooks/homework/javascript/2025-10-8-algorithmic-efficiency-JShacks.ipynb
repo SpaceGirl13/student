{
 "cells": [
  {
   "cell_type": "raw",
   "id": "4e3e77eb",
   "metadata": {
    "vscode": {
     "languageId": "raw"
    }
   },
   "source": [
    "---\n",
    "layout: post\n",
    "title: \"3.17 Algorithmic Efficiency Python Lesson\"\n",
    "categories: [Programming Fundamentals, Tutorial]\n",
    "tags: [python, javascript, algorithms, lesson, beginner]\n",
    "description: Learn about algorithms and how they can be more or less efficient\n",
    "permalink: /peppa-maze/algorithmic-efficiency-PYlesson\n",
    "---"
   ]
  },
  {
   "cell_type": "markdown",
   "id": "825f983c",
   "metadata": {},
   "source": [
    "## Algorithmic Efficiency Hacks: Javascript\n",
    "\n",
    "Let's test your knowledge on algorithmic efficiency!\n",
    "\n",
    "### Hack 1: How Much Time?\n",
    "\n",
    "#### Objective: write the time complexity of the algorithm below using Big-O notation.\n",
    "(don't worry about special cases such as n = 1 or n = 0)."
   ]
  },
  {
   "cell_type": "code",
   "execution_count": 23,
   "id": "1fc4bcce",
   "metadata": {
    "vscode": {
     "languageId": "javascript"
    }
   },
   "outputs": [
    {
     "data": {
      "application/javascript": "let n = 10; // change this value to test different outputs!\n\nfor (let i = 0; i < n * 2; i++) {\n    console.log(i);\n}\n\n// TODO: print the above algorithm's time complexity\n// BE CAREFUL - This one might trick some people. Remember that Big-O notation shows how much an algorithm's time complexity GROWS, so coefficients don't matter...\n\nconsole.log(\"Time Complexity: O(n)\");\n",
      "text/plain": [
       "<IPython.core.display.Javascript object>"
      ]
     },
     "metadata": {},
     "output_type": "display_data"
    }
   ],
   "source": [
    "%%js\n",
    "let n = 10; // change this value to test different outputs!\n",
    "\n",
    "for (let i = 0; i < n * 2; i++) {\n",
    "    console.log(i);\n",
    "}\n",
    "\n",
    "// TODO: print the above algorithm's time complexity\n",
    "// BE CAREFUL - This one might trick some people. Remember that Big-O notation shows how much an algorithm's time complexity GROWS, so coefficients don't matter...\n",
    "\n",
    "console.log(\"Time Complexity: O(n)\");"
   ]
  },
  {
   "cell_type": "markdown",
   "id": "4e562838",
   "metadata": {},
   "source": [
    "### Hack 2: Your Turn!\n",
    "\n",
    "#### Objective: <strong>write</strong> an algorithm with O(n^2) time complexity."
   ]
  },
  {
   "cell_type": "code",
   "execution_count": 24,
   "id": "f9394969",
   "metadata": {
    "vscode": {
     "languageId": "javascript"
    }
   },
   "outputs": [
    {
     "data": {
      "application/javascript": "const n = 2; // change this if you want.\n\n// TODO: Write an algorithm with O(n^2) time complexity\n// Hint: think about nested loops...\n\nfor (let i = 0; i < n; i++) {\n    for (let j = 0; j < n; j++) {\n        console.log(`i: ${i}, j: ${j}`);\n    }\n}\n\nconsole.log(\"Time Complexity: O(n^2)\");\n",
      "text/plain": [
       "<IPython.core.display.Javascript object>"
      ]
     },
     "metadata": {},
     "output_type": "display_data"
    }
   ],
   "source": [
    "%%javascript\n",
    "const n = 2; // change this if you want.\n",
    "\n",
    "// TODO: Write an algorithm with O(n^2) time complexity\n",
    "// Hint: think about nested loops...\n",
    "\n",
    "for (let i = 0; i < n; i++) {\n",
    "    for (let j = 0; j < n; j++) {\n",
    "        console.log(`i: ${i}, j: ${j}`);\n",
    "    }\n",
    "}\n",
    "\n",
    "console.log(\"Time Complexity: O(n^2)\");\n"
   ]
  },
  {
   "cell_type": "markdown",
   "id": "26d353f3",
   "metadata": {},
   "source": [
    "### Hack 3: Gotta Go Fast!\n",
    "\n",
    "#### Objective: Optimize this algorithm so that it has a lower time complexity <strong>without modifying the outer loop</strong>"
   ]
  },
  {
   "cell_type": "code",
   "execution_count": 25,
   "id": "83acbe82",
   "metadata": {
    "vscode": {
     "languageId": "javascript"
    }
   },
   "outputs": [
    {
     "data": {
      "application/javascript": "const n = 3; // change this\nlet count = 0;\n\nfor (let i = 0; i < n; i++) { // Outer loop, DO NOT MODIFY\n    // Replace inner loop with formula\n    count += i;\n}\n\nconsole.log(count);\nconsole.log(\"Time Complexity: O(n)\");\n",
      "text/plain": [
       "<IPython.core.display.Javascript object>"
      ]
     },
     "metadata": {},
     "output_type": "display_data"
    }
   ],
   "source": [
    "%%javascript\n",
    "const n = 3; // change this\n",
    "let count = 0;\n",
    "\n",
    "for (let i = 0; i < n; i++) { // Outer loop, DO NOT MODIFY\n",
    "    // Replace inner loop with formula\n",
    "    count += i;\n",
    "}\n",
    "\n",
    "console.log(count);\n",
    "console.log(\"Time Complexity: O(n)\");"
   ]
  },
  {
   "cell_type": "markdown",
   "id": "e6e45a7b",
   "metadata": {},
   "source": [
    "### Hack 4: Extra Challenge (you might also get extra credit for this one so u should do it)\n",
    "\n",
    "#### Objective: Write an algorithm with a time complexity of O(n*log(n))."
   ]
  },
  {
   "cell_type": "code",
   "execution_count": 26,
   "id": "87c33c6e",
   "metadata": {
    "vscode": {
     "languageId": "javascript"
    }
   },
   "outputs": [
    {
     "data": {
      "application/javascript": "// Prompt for n\nconst n = parseInt(prompt(\"Enter n: \"));\n\n// Example: Recursive function with O(n log n) complexity (similar to merge sort)\nfunction recursiveAlgorithm(arr) {\n  if (arr.length <= 1) return arr;\n\n  const mid = Math.floor(arr.length / 2);\n  const left = recursiveAlgorithm(arr.slice(0, mid));\n  const right = recursiveAlgorithm(arr.slice(mid));\n\n  // Simple merge (just concatenation here for demo)\n  return left.concat(right);\n}\n\n// Create an array of size n\nconst data = Array.from({ length: n }, (_, i) => i);\nconst result = recursiveAlgorithm(data);\n\nconsole.log(\"Result length:\", result.length);\nconsole.log(\"Time Complexity: O(n log n)\");\n",
      "text/plain": [
       "<IPython.core.display.Javascript object>"
      ]
     },
     "metadata": {},
     "output_type": "display_data"
    }
   ],
   "source": [
    "%%js\n",
    "// Prompt for n\n",
    "const n = parseInt(prompt(\"Enter n: \"));\n",
    "\n",
    "// Example: Recursive function with O(n log n) complexity (similar to merge sort)\n",
    "function recursiveAlgorithm(arr) {\n",
    "  if (arr.length <= 1) return arr;\n",
    "\n",
    "  const mid = Math.floor(arr.length / 2);\n",
    "  const left = recursiveAlgorithm(arr.slice(0, mid));\n",
    "  const right = recursiveAlgorithm(arr.slice(mid));\n",
    "\n",
    "  // Simple merge (just concatenation here for demo)\n",
    "  return left.concat(right);\n",
    "}\n",
    "\n",
    "// Create an array of size n\n",
    "const data = Array.from({ length: n }, (_, i) => i);\n",
    "const result = recursiveAlgorithm(data);\n",
    "\n",
    "console.log(\"Result length:\", result.length);\n",
    "console.log(\"Time Complexity: O(n log n)\");\n"
   ]
  }
 ],
 "metadata": {
  "kernelspec": {
   "display_name": "venv",
   "language": "python",
   "name": "python3"
  },
  "language_info": {
   "codemirror_mode": {
    "name": "ipython",
    "version": 3
   },
   "file_extension": ".py",
   "mimetype": "text/x-python",
   "name": "python",
   "nbconvert_exporter": "python",
   "pygments_lexer": "ipython3",
   "version": "3.13.7"
  }
 },
 "nbformat": 4,
 "nbformat_minor": 5
}

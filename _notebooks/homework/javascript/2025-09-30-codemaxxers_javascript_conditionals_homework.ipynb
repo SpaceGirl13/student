{
 "cells": [
  {
   "cell_type": "raw",
   "id": "f9ba8574",
   "metadata": {
    "vscode": {
     "languageId": "raw"
    }
   },
   "source": [
    "---\n",
    "title: \"Conditionals in JavaScript - Hacks\"\n",
    "description: \"Three scaffolded hacks to practice selection (if, else if, else) in JavaScript. No nesting.\"\n",
    "layout: post\n",
    "permalink: /csp/codemaxxers/conditionals/p4/hacks-js/\n",
    "categories: [Javascript]\n",
    "---\n"
   ]
  },
  {
   "cell_type": "markdown",
   "id": "3c712f87",
   "metadata": {},
   "source": [
    "\n",
    "# 🌐 CSP 3.6 Hacks — Conditionals (JavaScript)\n",
    "\n",
    "You will complete **three** small programs that use selection with `if`, `else if`, `else` \n",
    "\n",
    "Answers to common errors:\n",
    "- Please select the JavaScript kernel when running the code, do NOT select python\n",
    "- If the code reports random errors try pressing restart at the top bar\n",
    "- If you get stuck on a problem, make comments about what you understand so far and what you are stuck on\n"
   ]
  },
  {
   "cell_type": "markdown",
   "id": "841773a2",
   "metadata": {},
   "source": [
    "\n",
    "## 🟢 Hack 1 — Number Range Checker (Beginner)\n",
    "\n",
    "**Requirements (spec):**\n",
    "- Ask for a number.\n",
    "- If the number is **between 0 and 10** (inclusive), print the number **then** print `Goodbye`.\n",
    "- Otherwise, print only `Goodbye!`.\n",
    "- Use one `if / else` and combine comparisons with `&&`.\n",
    "\n",
    "**Tips:** use `parseInt(..., 10)`; inclusive means `>=` and `<=`.\n"
   ]
  },
  {
   "cell_type": "code",
   "execution_count": 11,
   "id": "496c38dc",
   "metadata": {
    "vscode": {
     "languageId": "javascript"
    }
   },
   "outputs": [
    {
     "data": {
      "application/javascript": "// Starter code \nvar num = 11;  //  Change this number to test different inputs\n\n//Complete the code below according to the rules above\nif (num >= 0 && num <= 10) {\n    console.log(num);\n    console.log(\"Goodbye\");\n} else {\n    console.log(\"Goodbye!\");\n}\n",
      "text/plain": [
       "<IPython.core.display.Javascript object>"
      ]
     },
     "metadata": {},
     "output_type": "display_data"
    }
   ],
   "source": [
    "%%javascript\n",
    "// Starter code \n",
    "var num = 11;  //  Change this number to test different inputs\n",
    "\n",
    "//Complete the code below according to the rules above\n",
    "if (num >= 0 && num <= 10) {\n",
    "    console.log(num);\n",
    "    console.log(\"Goodbye\");\n",
    "} else {\n",
    "    console.log(\"Goodbye!\");\n",
    "}\n"
   ]
  },
  {
   "cell_type": "markdown",
   "id": "93ed4d77",
   "metadata": {},
   "source": [
    "\n",
    "## 🟡 Hack 2 — Grade Evaluator (Intermediate)\n",
    "\n",
    "**Requirements (spec):**\n",
    "- Ask for a grade `0–100`.\n",
    "- If `grade >= 75`, print two lines: `You get extra credit!` then `Have a good day`.\n",
    "- Otherwise, print `Have a good day` only.\n",
    "\n",
    "\n"
   ]
  },
  {
   "cell_type": "code",
   "execution_count": 12,
   "id": "e89c7c78",
   "metadata": {
    "vscode": {
     "languageId": "javascript"
    }
   },
   "outputs": [
    {
     "data": {
      "application/javascript": "// Starter code \nlet grade = 78  // Change this grade to test different cases\n\n\nif (grade >= 75) {\n    console.log(\"You get extra credit!\");\n    console.log(\"Have a good day\");\n}\nelse {\n    console.log(\"Have a good day\");\n}\n\n//Complete the code below according to the rules above\n",
      "text/plain": [
       "<IPython.core.display.Javascript object>"
      ]
     },
     "metadata": {},
     "output_type": "display_data"
    }
   ],
   "source": [
    "%%javascript\n",
    "// Starter code \n",
    "let grade = 78  // Change this grade to test different cases\n",
    "\n",
    "\n",
    "if (grade >= 75) {\n",
    "    console.log(\"You get extra credit!\");\n",
    "    console.log(\"Have a good day\");\n",
    "}\n",
    "else {\n",
    "    console.log(\"Have a good day\");\n",
    "}\n",
    "\n",
    "//Complete the code below according to the rules above"
   ]
  },
  {
   "cell_type": "markdown",
   "id": "c9774090",
   "metadata": {},
   "source": [
    "\n",
    "## 🔵 Hack 3 — Access Pass (Advanced)\n",
    "\n",
    "**Inputs:** `age` (number), `has_ticket` (`\"yes\"/\"no\"`), `vip` (`\"yes\"/\"no\"`)\n",
    "\n",
    "**Rules**\n",
    "- If `vip === \"yes\"` → `VIP Entrance`\n",
    "- Else if `has_ticket === \"yes\"` **and** `age >= 16` → `General Entrance`\n",
    "- Else if `has_ticket === \"yes\"` **and** `age < 16` → `Minor Entrance (with guardian)`\n",
    "- Else → `No Entrance`\n",
    "\n",
    "**Tip:** normalize strings with `.trim().toLowerCase()`.\n"
   ]
  },
  {
   "cell_type": "code",
   "execution_count": 13,
   "id": "9c71990e",
   "metadata": {
    "vscode": {
     "languageId": "javascript"
    }
   },
   "outputs": [
    {
     "data": {
      "application/javascript": "// Starter code (student edits this cell)\nlet age = 15;           //  Change the age\nlet has_ticket = \"yes\"; //  Change to \"yes\" or \"no\"\nlet vip = \"no\";         //  Change to \"yes\" or \"no\"\n\nif (vip === \"yes\") {\n    console.log(\"VIP Entrance\");\n}\nelse if (has_ticket === \"yes\" && age >=16){\n    console.log(\"General Entrance\");\n}\nelse if (has_ticket === \"yes\" && age < 16){\n    console.log(\"Minor Entrance (with guardian)\");\n}\nelse {\n    console.log(\"No Entrance\");\n}\n\n// TODO: Implement ladder using if / else if / else\n// Rules:\n// - VIP = \"yes\" → \"VIP Entrance\"\n// - Ticket = \"yes\" and age >= 16 → \"General Entrance\"\n// - Ticket = \"yes\" and age < 16 → \"Minor Entrance (with guardian)\"\n// - Otherwise → \"No Entrance\"\n\n// Complete the code below according to the rules above\n",
      "text/plain": [
       "<IPython.core.display.Javascript object>"
      ]
     },
     "metadata": {},
     "output_type": "display_data"
    }
   ],
   "source": [
    "%%javascript\n",
    "// Starter code (student edits this cell)\n",
    "let age = 15;           //  Change the age\n",
    "let has_ticket = \"yes\"; //  Change to \"yes\" or \"no\"\n",
    "let vip = \"no\";         //  Change to \"yes\" or \"no\"\n",
    "\n",
    "if (vip === \"yes\") {\n",
    "    console.log(\"VIP Entrance\");\n",
    "}\n",
    "else if (has_ticket === \"yes\" && age >=16){\n",
    "    console.log(\"General Entrance\");\n",
    "}\n",
    "else if (has_ticket === \"yes\" && age < 16){\n",
    "    console.log(\"Minor Entrance (with guardian)\");\n",
    "}\n",
    "else {\n",
    "    console.log(\"No Entrance\");\n",
    "}\n",
    "\n",
    "// TODO: Implement ladder using if / else if / else\n",
    "// Rules:\n",
    "// - VIP = \"yes\" → \"VIP Entrance\"\n",
    "// - Ticket = \"yes\" and age >= 16 → \"General Entrance\"\n",
    "// - Ticket = \"yes\" and age < 16 → \"Minor Entrance (with guardian)\"\n",
    "// - Otherwise → \"No Entrance\"\n",
    "\n",
    "// Complete the code below according to the rules above"
   ]
  },
  {
   "cell_type": "markdown",
   "id": "ed970992",
   "metadata": {},
   "source": [
    "\n",
    "---\n",
    "### 🧾 Turn-in checklist\n",
    "- [ ] All three hacks run and match the rules above them. \n",
    "- [ ] You included at least one changed element for at least one hack, this can be change of message, the range, or the input information (not the input, the prompt for the input). Do not just change the input and call that your personal change.\n",
    "- [ ] You wrote a 2–3 sentence reflection in your portfolio:  \n",
    "  - What conditional form did you use most?  \n",
    "  - What would you like to add to the lesson that would help you better understand the material?\n"
   ]
  }
 ],
 "metadata": {
  "kernelspec": {
   "display_name": "venv",
   "language": "python",
   "name": "python3"
  },
  "language_info": {
   "codemirror_mode": {
    "name": "ipython",
    "version": 3
   },
   "file_extension": ".py",
   "mimetype": "text/x-python",
   "name": "python",
   "nbconvert_exporter": "python",
   "pygments_lexer": "ipython3",
   "version": "3.13.7"
  }
 },
 "nbformat": 4,
 "nbformat_minor": 5
}

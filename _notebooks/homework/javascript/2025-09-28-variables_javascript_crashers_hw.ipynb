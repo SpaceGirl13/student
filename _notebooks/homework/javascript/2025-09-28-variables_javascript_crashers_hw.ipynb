{
 "cells": [
  {
   "cell_type": "raw",
   "id": "f7d70aa2",
   "metadata": {
    "vscode": {
     "languageId": "raw"
    }
   },
   "source": [
    "---\n",
    "layout: post\n",
    "title: \"3.1 Variables & Assignments hacks\"\n",
    "categories: [Javascript]\n",
    "tags: [python, javascript, variables, assignment, beginner]\n",
    "description: Apply your understanding of Variables & Assignments with these hacks\n",
    "author: Aditya Srivastava, Laya Balaji\n",
    "permalink: /javascript/variables/crashers-hw\n",
    "---"
   ]
  },
  {
   "cell_type": "markdown",
   "id": "ce56910b",
   "metadata": {},
   "source": [
    "# 🐷 Peppa Maze Variables & Assignments Hacks\n",
    "Welcome to the Peppa Maze hacks! These challenges will test your understanding of variables, assignments, and logic in Javascript. Read each task, then write or modify code to solve it."
   ]
  },
  {
   "cell_type": "markdown",
   "id": "7dee3bb5",
   "metadata": {},
   "source": [
    "## Hack 1: JavaScript - Variable Assignment, Naming, and Operators\n",
    "Create variables for Peppa's name, score, and level using good JavaScript naming conventions. Assign initial values, then use operators to update score (add 10) and level (multiply by 2). Print all results."
   ]
  },
  {
   "cell_type": "code",
   "execution_count": 5,
   "id": "e4bee113",
   "metadata": {
    "vscode": {
     "languageId": "javascript"
    }
   },
   "outputs": [
    {
     "data": {
      "application/javascript": "// Write your code here\nlet peppaName = \"Peppa Pig\";\nlet peppaScore = 0;\nlet peppaLevel = 1;\n\n// Update Peppa's score and level\npeppaScore += 10; // Increase score by 10\npeppaLevel += 1;  // Increase level by 1\n\nconsole.log(\"Character Name:\", peppaName);\nconsole.log(\"Score:\", peppaScore);\nconsole.log(\"Level:\", peppaLevel);\n// Create variables for Peppa's name, score, and level\n// Use operators to update score and level\n",
      "text/plain": [
       "<IPython.core.display.Javascript object>"
      ]
     },
     "metadata": {},
     "output_type": "display_data"
    }
   ],
   "source": [
    "%%javascript\n",
    "// Write your code here\n",
    "let peppaName = \"Peppa Pig\";\n",
    "let peppaScore = 0;\n",
    "let peppaLevel = 1;\n",
    "\n",
    "// Update Peppa's score and level\n",
    "peppaScore += 10; // Increase score by 10\n",
    "peppaLevel += 1;  // Increase level by 1\n",
    "\n",
    "console.log(\"Character Name:\", peppaName);\n",
    "console.log(\"Score:\", peppaScore);\n",
    "console.log(\"Level:\", peppaLevel);\n",
    "// Create variables for Peppa's name, score, and level\n",
    "// Use operators to update score and level\n"
   ]
  },
  {
   "cell_type": "markdown",
   "id": "3f8a5cbe",
   "metadata": {},
   "source": [
    "## Hack 2: JavaScript - Variable Declaration, Assignment, and Operators\n",
    "Declare variables for Peppa and George's scores using good JavaScript naming conventions. Assign initial values, then use operators to update both scores (e.g., Peppa gets 15 points, George loses 5 points). Print both scores."
   ]
  },
  {
   "cell_type": "code",
   "execution_count": 6,
   "id": "c4c80df3",
   "metadata": {
    "vscode": {
     "languageId": "javascript"
    }
   },
   "outputs": [
    {
     "data": {
      "application/javascript": "// Write your code here\n// Declare variables for Peppa and George's scores\n// Use operators to update both scores\nlet peppaScore = 20;\nlet georgeScore = 15;\n\n// Update Peppa's score\npeppaScore += 5; // Increase Peppa's score by 5\n\n// Update George's score\ngeorgeScore -= 10; // Decrease George's score by 10\n\nconsole.log(\"Peppa's Score:\", peppaScore);\nconsole.log(\"George's Score:\", georgeScore);\n",
      "text/plain": [
       "<IPython.core.display.Javascript object>"
      ]
     },
     "metadata": {},
     "output_type": "display_data"
    }
   ],
   "source": [
    "%%javascript\n",
    "// Write your code here\n",
    "// Declare variables for Peppa and George's scores\n",
    "// Use operators to update both scores\n",
    "let peppaScore = 20;\n",
    "let georgeScore = 15;\n",
    "\n",
    "// Update Peppa's score\n",
    "peppaScore += 5; // Increase Peppa's score by 5\n",
    "\n",
    "// Update George's score\n",
    "georgeScore -= 10; // Decrease George's score by 10\n",
    "\n",
    "console.log(\"Peppa's Score:\", peppaScore);\n",
    "console.log(\"George's Score:\", georgeScore);"
   ]
  },
  {
   "cell_type": "markdown",
   "id": "30580c24",
   "metadata": {},
   "source": [
    "## Hack 3: JavaScript - Multiple Assignment and Math Operators\n",
    "Peppa and George both start at level 1. Use a single line to assign both their levels to 5. Then, calculate a combined score by multiplying their levels together and multiplying by 10. Print all results."
   ]
  },
  {
   "cell_type": "code",
   "execution_count": 7,
   "id": "67774ff3",
   "metadata": {
    "vscode": {
     "languageId": "javascript"
    }
   },
   "outputs": [
    {
     "data": {
      "application/javascript": "// Write your code here\n// let peppaLevel = 1, georgeLevel = 1;\n// Assign both levels to 5 in one line\n// Calculate combinedScore = peppaLevel * georgeLevel * 10;\n// Print all results\nlet peppaLevel = 5, georgeLevel = 5;\nlet combinedScore = peppaLevel * georgeLevel * 10;\n\nconsole.log(\"Peppa's Level:\", peppaLevel);\nconsole.log(\"George's Level:\", georgeLevel);\nconsole.log(\"Combined Score:\", combinedScore);\n",
      "text/plain": [
       "<IPython.core.display.Javascript object>"
      ]
     },
     "metadata": {},
     "output_type": "display_data"
    }
   ],
   "source": [
    "%%javascript\n",
    "// Write your code here\n",
    "// let peppaLevel = 1, georgeLevel = 1;\n",
    "// Assign both levels to 5 in one line\n",
    "// Calculate combinedScore = peppaLevel * georgeLevel * 10;\n",
    "// Print all results\n",
    "let peppaLevel = 5, georgeLevel = 5;\n",
    "let combinedScore = peppaLevel * georgeLevel * 10;\n",
    "\n",
    "console.log(\"Peppa's Level:\", peppaLevel);\n",
    "console.log(\"George's Level:\", georgeLevel);\n",
    "console.log(\"Combined Score:\", combinedScore);"
   ]
  }
 ],
 "metadata": {
  "kernelspec": {
   "display_name": "venv",
   "language": "python",
   "name": "python3"
  },
  "language_info": {
   "codemirror_mode": {
    "name": "ipython",
    "version": 3
   },
   "file_extension": ".py",
   "mimetype": "text/x-python",
   "name": "python",
   "nbconvert_exporter": "python",
   "pygments_lexer": "ipython3",
   "version": "3.13.7"
  }
 },
 "nbformat": 4,
 "nbformat_minor": 5
}

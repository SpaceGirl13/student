{
 "cells": [
  {
   "cell_type": "raw",
   "metadata": {
    "vscode": {
     "languageId": "raw"
    }
   },
   "source": [
    "---\n",
    "layout: post\n",
    "title: GitHub Pages\n",
    "description: The Web Programming topics are focused on learning Frontend programming, GitHub Pages, and Jupyter Notebooks.\n",
    "categories: ['JavaScript']\n",
    "permalink: /github/pages/intro\n",
    "type: ccc\n",
    "courses: {'csse': {'week': 2}, 'csp': {'week': 2}, 'csa': {'week': 1}}\n",
    "author: John Mortensen\n",
    "menu: nav/github_pages.html\n",
    "---"
   ]
  },
  {
   "cell_type": "markdown",
   "metadata": {},
   "source": [
    "## GitHub Pages Mini Project\n",
    "\n",
    "Your Teacher wants you to engage in a mini project!  This project is intended to help you and your programming pair to make an information site.  The required topics for this mini project include ...\n",
    "\n",
    "- Making a submenu\n",
    "- Using the submenu headings to Guide sub topics\n",
    "- Make your own customized pages for each submenu\n",
    "- Create some data that will help you track information about your topic\n",
    "- Make some submenu pages that perform actions through JavaScript\n",
    "- Review the anatomy of GitHub pages\n",
    "  - Review and experiment with the usage of Styles in GitHub Pages\n",
    "Start the process of inspecting and debugging\n",
    "\n",
    "## Topics\n",
    "\n",
    "The topic for your mini project is up to you.\n",
    "- Perhaps you wnat to make a submenu of your favorite games and inside each article you can capture data and talk about techniques to enhance place (list discord groups, list communities you have joined, share a list of key videos to enhance success, make a list of popular mods you have added, discuss properties of avatars, etc )  \n",
    "- In fitness training you could make menus that highlight highlight topics and results by define a training regimine, track results/data on regimine, define key offline preparations (sleep, nutrition, water, calories, steps), etc\n",
    "\n",
    "\n",
    "### Brainstorm\n",
    "\n",
    "To brainstorm is often done by sharing or talking about topics with a pair.  In your project you will capture your brainstorm of your project.\n",
    "\n",
    "- Gaming Blog\n",
    "- Fitness Blog\n",
    "- Raising Fish\n",
    "- Career Humor\n",
    "\n",
    "## Brainwrite \n",
    "\n",
    "The Teacher descited to create a mini project on Career Humor.  As a Brainwrite activity, the Teacher decided to think about careers that are possible pursuts of subjects taught at Del Norte High School.\n",
    "\n",
    "### Brainwrite Submenu\n",
    "\n",
    "My brainwrite took the brainstorm idea of **Career Humor** and established some categories.   \n",
    "\n",
    "1. Computer Science\n",
    "2. Accountant\n",
    "3. Jounalism\n",
    "4. Film and Media\n",
    "5. Mechanical Engineer\n",
    "6. Biomedical Engineer\n",
    "7. Astronomer\n",
    "\n",
    "\n",
    "### Brainwrite Data\n",
    "\n",
    "Beyond initial categories, my brainwrite went into the direction of authoring joke data.  Amazingly, after some initial research on Computer Science, the Teacher found that ChatGPT could help with jokes on Accountings.\n",
    "\n",
    "**Note** To observe outputs from Javascript **console.log**, open the Developer Tools\n",
    "  - In VSCode, go to **Help->Toggle Developer Tools**\n",
    "  - Click on **Console** in the newly opened Window\n",
    "  - Clear screen by pressing **Clear Console** (circle with line)\n",
    "  - Then press **Play button** to left of cell\n",
    "  - Observer random output in Console\n"
   ]
  },
  {
   "cell_type": "code",
   "execution_count": 3,
   "metadata": {
    "vscode": {
     "languageId": "javascript"
    }
   },
   "outputs": [
    {
     "data": {
      "application/javascript": "var compsci_joke_list = [\n    { joke: \"Why do programmers prefer dark mode? Because light attracts bugs.\", complexity: \"O(1)\" },\n    { joke: \"Why do Java developers wear glasses? Because they don't see sharp.\", complexity: \"O(1)\" },\n    { joke: \"How many programmers does it take to change a light bulb? None, that's a hardware problem.\", complexity: \"O(1)\" },\n    { joke: \"Why do programmers hate nature? It has too many bugs.\", complexity: \"O(n)\" },\n    { joke: \"Why do Python programmers prefer snake_case? Because they can't C.\", complexity: \"O(1)\" },\n    { joke: \"Why was the JavaScript developer sad? Because he didn't know how to 'null' his feelings.\", complexity: \"O(1)\" },\n    { joke: \"Why do programmers always mix up Christmas and Halloween? Because Oct 31 == Dec 25.\", complexity: \"O(1)\" },\n    { joke: \"Why did the programmer quit his job? Because he didn't get arrays.\", complexity: \"O(n)\" },\n    { joke: \"Why do programmers prefer using the terminal? Because they don't like Windows.\", complexity: \"O(1)\" },\n    { joke: \"Why was the function sad after a breakup? It couldn't find its closure.\", complexity: \"O(1)\" }\n];\n\nvar randomIndex = Math.floor(Math.random() * compsci_joke_list.length);\nvar selectedJoke = compsci_joke_list[randomIndex];\n\n// Log to console\nconsole.log(\"Joke #\" + (randomIndex + 1) + \": \" + selectedJoke.joke +\n            \" (Complexity: \" + selectedJoke.complexity + \")\");\n\n// Create DOM elements in notebook output\nvar container = document.createElement(\"div\");\ncontainer.style.border = \"1px solid #333\";\ncontainer.style.padding = \"10px\";\ncontainer.style.margin = \"10px 0\";\ncontainer.style.borderRadius = \"5px\";\n\nvar jokeText = document.createElement(\"p\");\njokeText.textContent = selectedJoke.joke;\n\nvar complexityText = document.createElement(\"p\");\ncomplexityText.textContent = \"Complexity: \" + selectedJoke.complexity;\ncomplexityText.style.color = \"gray\";\n\ncontainer.appendChild(jokeText);\ncontainer.appendChild(complexityText);\n\n// Append to notebook output area\nelement.append(container);\n",
      "text/plain": [
       "<IPython.core.display.Javascript object>"
      ]
     },
     "metadata": {},
     "output_type": "display_data"
    }
   ],
   "source": [
    "%%javascript\n",
    "var compsci_joke_list = [\n",
    "    { joke: \"Why do programmers prefer dark mode? Because light attracts bugs.\", complexity: \"O(1)\" },\n",
    "    { joke: \"Why do Java developers wear glasses? Because they don't see sharp.\", complexity: \"O(1)\" },\n",
    "    { joke: \"How many programmers does it take to change a light bulb? None, that's a hardware problem.\", complexity: \"O(1)\" },\n",
    "    { joke: \"Why do programmers hate nature? It has too many bugs.\", complexity: \"O(n)\" },\n",
    "    { joke: \"Why do Python programmers prefer snake_case? Because they can't C.\", complexity: \"O(1)\" },\n",
    "    { joke: \"Why was the JavaScript developer sad? Because he didn't know how to 'null' his feelings.\", complexity: \"O(1)\" },\n",
    "    { joke: \"Why do programmers always mix up Christmas and Halloween? Because Oct 31 == Dec 25.\", complexity: \"O(1)\" },\n",
    "    { joke: \"Why did the programmer quit his job? Because he didn't get arrays.\", complexity: \"O(n)\" },\n",
    "    { joke: \"Why do programmers prefer using the terminal? Because they don't like Windows.\", complexity: \"O(1)\" },\n",
    "    { joke: \"Why was the function sad after a breakup? It couldn't find its closure.\", complexity: \"O(1)\" }\n",
    "];\n",
    "\n",
    "var randomIndex = Math.floor(Math.random() * compsci_joke_list.length);\n",
    "var selectedJoke = compsci_joke_list[randomIndex];\n",
    "\n",
    "// Log to console\n",
    "console.log(\"Joke #\" + (randomIndex + 1) + \": \" + selectedJoke.joke +\n",
    "            \" (Complexity: \" + selectedJoke.complexity + \")\");\n",
    "\n",
    "// Create DOM elements in notebook output\n",
    "var container = document.createElement(\"div\");\n",
    "container.style.border = \"1px solid #333\";\n",
    "container.style.padding = \"10px\";\n",
    "container.style.margin = \"10px 0\";\n",
    "container.style.borderRadius = \"5px\";\n",
    "\n",
    "var jokeText = document.createElement(\"p\");\n",
    "jokeText.textContent = selectedJoke.joke;\n",
    "\n",
    "var complexityText = document.createElement(\"p\");\n",
    "complexityText.textContent = \"Complexity: \" + selectedJoke.complexity;\n",
    "complexityText.style.color = \"gray\";\n",
    "\n",
    "container.appendChild(jokeText);\n",
    "container.appendChild(complexityText);\n",
    "\n",
    "// Append to notebook output area\n",
    "element.append(container);\n"
   ]
  }
 ],
 "metadata": {
  "kernelspec": {
   "display_name": "venv",
   "language": "python",
   "name": "python3"
  },
  "language_info": {
   "codemirror_mode": {
    "name": "ipython",
    "version": 3
   },
   "file_extension": ".py",
   "mimetype": "text/x-python",
   "name": "python",
   "nbconvert_exporter": "python",
   "pygments_lexer": "ipython3",
   "version": "3.13.7"
  }
 },
 "nbformat": 4,
 "nbformat_minor": 2
}
